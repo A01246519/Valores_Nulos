{
  "nbformat": 4,
  "nbformat_minor": 0,
  "metadata": {
    "colab": {
      "provenance": [],
      "authorship_tag": "ABX9TyPXAm+HeaYOUMZfREoQIqYg",
      "include_colab_link": true
    },
    "kernelspec": {
      "name": "python3",
      "display_name": "Python 3"
    },
    "language_info": {
      "name": "python"
    }
  },
  "cells": [
    {
      "cell_type": "markdown",
      "metadata": {
        "id": "view-in-github",
        "colab_type": "text"
      },
      "source": [
        "<a href=\"https://colab.research.google.com/github/A01246519/Valores_Nulos/blob/main/Actividad3_2.ipynb\" target=\"_parent\"><img src=\"https://colab.research.google.com/assets/colab-badge.svg\" alt=\"Open In Colab\"/></a>"
      ]
    },
    {
      "cell_type": "markdown",
      "source": [
        "LIMPIAR BASE 1"
      ],
      "metadata": {
        "id": "X12QF4tP7lTu"
      }
    },
    {
      "cell_type": "code",
      "execution_count": 1,
      "metadata": {
        "id": "RBpXrFGQzqxx"
      },
      "outputs": [],
      "source": [
        "#Importamos las librerias pandas, numpy y matplotlib respectivamente\n",
        "import pandas as pd\n",
        "import numpy as np\n",
        "import matplotlib.pyplot as plt"
      ]
    },
    {
      "cell_type": "code",
      "source": [
        "#Cargar archivo excel desde COLAB\n",
        "from google.colab import files\n",
        "files.upload()"
      ],
      "metadata": {
        "id": "Om7nkaD0z7Fq"
      },
      "execution_count": null,
      "outputs": []
    },
    {
      "cell_type": "code",
      "source": [
        "#Carga desde un archivo .csv sin indice\n",
        "data = pd.read_excel('Datos de Facturación.xlsx')\n",
        "data.head(10)"
      ],
      "metadata": {
        "colab": {
          "base_uri": "https://localhost:8080/",
          "height": 363
        },
        "id": "Hgx_R68b0H1g",
        "outputId": "69fab325-42c3-4a58-eb00-ffbafb2bfdea"
      },
      "execution_count": 15,
      "outputs": [
        {
          "output_type": "execute_result",
          "data": {
            "text/plain": [
              "  CVE_DOC    CVE_CLPV STATUS  CVE_VEND           FECHAELAB  FECHA_DOC  \\\n",
              "0  F29414        2465      C       1.0 2019-09-03 08:58:42 2019-09-03   \n",
              "1  F29415        3926      C       1.0 2019-09-03 09:55:14 2019-09-03   \n",
              "2  F29416        3926      C       1.0 2019-09-03 13:25:33 2019-09-03   \n",
              "3  F29417        3926      C       1.0 2019-09-03 13:33:23 2019-09-03   \n",
              "4  F29418        6813      C       2.0 2019-09-03 14:23:45 2019-09-03   \n",
              "5  F29419        2465      E       1.0 2019-09-04 09:15:12 2019-09-04   \n",
              "6  F29420        6828      C       2.0 2019-09-04 10:53:53 2019-09-04   \n",
              "7  F29421        6828      E       2.0 2019-09-04 10:56:44 2019-09-04   \n",
              "8  F29422        5926      C       2.0 2019-09-04 11:14:44 2019-09-04   \n",
              "9  F29423        5926      C       2.0 2019-09-04 12:23:05 2019-09-04   \n",
              "\n",
              "             FECHA_ENT  FECHA_VEN FECHA_CANCELA   CAN_TOT  DES_TOT  DES_FIN  \n",
              "0  2019-09-03 00:00:00 2019-09-18    2019-09-04  3980.000      0.0      0.0  \n",
              "1  2019-09-03 00:00:00 2019-10-03    2019-09-03  1550.000      0.0      0.0  \n",
              "2  2019-09-03 00:00:00 2019-10-03    2019-09-03  1550.000      0.0      0.0  \n",
              "3  2019-09-03 00:00:00 2019-10-03    2019-09-17  1550.000      0.0      0.0  \n",
              "4  2019-09-03 00:00:00 2019-09-03    2019-09-10  2435.440      0.0      0.0  \n",
              "5  2019-09-04 00:00:00 2019-09-19           NaT  3979.998      0.0      0.0  \n",
              "6  2019-09-04 00:00:00 2019-09-04    2019-09-04   402.590      0.0      0.0  \n",
              "7  2019-09-04 00:00:00 2019-09-04           NaT   402.590      0.0      0.0  \n",
              "8  2019-09-02 00:00:00 2019-09-04    2019-09-04  1606.740      0.0      0.0  \n",
              "9  2019-09-02 00:00:00 2019-09-04    2019-09-04  1144.430      0.0      0.0  "
            ],
            "text/html": [
              "\n",
              "  <div id=\"df-8740fedc-0cd7-46ab-a34c-d2426525abcc\" class=\"colab-df-container\">\n",
              "    <div>\n",
              "<style scoped>\n",
              "    .dataframe tbody tr th:only-of-type {\n",
              "        vertical-align: middle;\n",
              "    }\n",
              "\n",
              "    .dataframe tbody tr th {\n",
              "        vertical-align: top;\n",
              "    }\n",
              "\n",
              "    .dataframe thead th {\n",
              "        text-align: right;\n",
              "    }\n",
              "</style>\n",
              "<table border=\"1\" class=\"dataframe\">\n",
              "  <thead>\n",
              "    <tr style=\"text-align: right;\">\n",
              "      <th></th>\n",
              "      <th>CVE_DOC</th>\n",
              "      <th>CVE_CLPV</th>\n",
              "      <th>STATUS</th>\n",
              "      <th>CVE_VEND</th>\n",
              "      <th>FECHAELAB</th>\n",
              "      <th>FECHA_DOC</th>\n",
              "      <th>FECHA_ENT</th>\n",
              "      <th>FECHA_VEN</th>\n",
              "      <th>FECHA_CANCELA</th>\n",
              "      <th>CAN_TOT</th>\n",
              "      <th>DES_TOT</th>\n",
              "      <th>DES_FIN</th>\n",
              "    </tr>\n",
              "  </thead>\n",
              "  <tbody>\n",
              "    <tr>\n",
              "      <th>0</th>\n",
              "      <td>F29414</td>\n",
              "      <td>2465</td>\n",
              "      <td>C</td>\n",
              "      <td>1.0</td>\n",
              "      <td>2019-09-03 08:58:42</td>\n",
              "      <td>2019-09-03</td>\n",
              "      <td>2019-09-03 00:00:00</td>\n",
              "      <td>2019-09-18</td>\n",
              "      <td>2019-09-04</td>\n",
              "      <td>3980.000</td>\n",
              "      <td>0.0</td>\n",
              "      <td>0.0</td>\n",
              "    </tr>\n",
              "    <tr>\n",
              "      <th>1</th>\n",
              "      <td>F29415</td>\n",
              "      <td>3926</td>\n",
              "      <td>C</td>\n",
              "      <td>1.0</td>\n",
              "      <td>2019-09-03 09:55:14</td>\n",
              "      <td>2019-09-03</td>\n",
              "      <td>2019-09-03 00:00:00</td>\n",
              "      <td>2019-10-03</td>\n",
              "      <td>2019-09-03</td>\n",
              "      <td>1550.000</td>\n",
              "      <td>0.0</td>\n",
              "      <td>0.0</td>\n",
              "    </tr>\n",
              "    <tr>\n",
              "      <th>2</th>\n",
              "      <td>F29416</td>\n",
              "      <td>3926</td>\n",
              "      <td>C</td>\n",
              "      <td>1.0</td>\n",
              "      <td>2019-09-03 13:25:33</td>\n",
              "      <td>2019-09-03</td>\n",
              "      <td>2019-09-03 00:00:00</td>\n",
              "      <td>2019-10-03</td>\n",
              "      <td>2019-09-03</td>\n",
              "      <td>1550.000</td>\n",
              "      <td>0.0</td>\n",
              "      <td>0.0</td>\n",
              "    </tr>\n",
              "    <tr>\n",
              "      <th>3</th>\n",
              "      <td>F29417</td>\n",
              "      <td>3926</td>\n",
              "      <td>C</td>\n",
              "      <td>1.0</td>\n",
              "      <td>2019-09-03 13:33:23</td>\n",
              "      <td>2019-09-03</td>\n",
              "      <td>2019-09-03 00:00:00</td>\n",
              "      <td>2019-10-03</td>\n",
              "      <td>2019-09-17</td>\n",
              "      <td>1550.000</td>\n",
              "      <td>0.0</td>\n",
              "      <td>0.0</td>\n",
              "    </tr>\n",
              "    <tr>\n",
              "      <th>4</th>\n",
              "      <td>F29418</td>\n",
              "      <td>6813</td>\n",
              "      <td>C</td>\n",
              "      <td>2.0</td>\n",
              "      <td>2019-09-03 14:23:45</td>\n",
              "      <td>2019-09-03</td>\n",
              "      <td>2019-09-03 00:00:00</td>\n",
              "      <td>2019-09-03</td>\n",
              "      <td>2019-09-10</td>\n",
              "      <td>2435.440</td>\n",
              "      <td>0.0</td>\n",
              "      <td>0.0</td>\n",
              "    </tr>\n",
              "    <tr>\n",
              "      <th>5</th>\n",
              "      <td>F29419</td>\n",
              "      <td>2465</td>\n",
              "      <td>E</td>\n",
              "      <td>1.0</td>\n",
              "      <td>2019-09-04 09:15:12</td>\n",
              "      <td>2019-09-04</td>\n",
              "      <td>2019-09-04 00:00:00</td>\n",
              "      <td>2019-09-19</td>\n",
              "      <td>NaT</td>\n",
              "      <td>3979.998</td>\n",
              "      <td>0.0</td>\n",
              "      <td>0.0</td>\n",
              "    </tr>\n",
              "    <tr>\n",
              "      <th>6</th>\n",
              "      <td>F29420</td>\n",
              "      <td>6828</td>\n",
              "      <td>C</td>\n",
              "      <td>2.0</td>\n",
              "      <td>2019-09-04 10:53:53</td>\n",
              "      <td>2019-09-04</td>\n",
              "      <td>2019-09-04 00:00:00</td>\n",
              "      <td>2019-09-04</td>\n",
              "      <td>2019-09-04</td>\n",
              "      <td>402.590</td>\n",
              "      <td>0.0</td>\n",
              "      <td>0.0</td>\n",
              "    </tr>\n",
              "    <tr>\n",
              "      <th>7</th>\n",
              "      <td>F29421</td>\n",
              "      <td>6828</td>\n",
              "      <td>E</td>\n",
              "      <td>2.0</td>\n",
              "      <td>2019-09-04 10:56:44</td>\n",
              "      <td>2019-09-04</td>\n",
              "      <td>2019-09-04 00:00:00</td>\n",
              "      <td>2019-09-04</td>\n",
              "      <td>NaT</td>\n",
              "      <td>402.590</td>\n",
              "      <td>0.0</td>\n",
              "      <td>0.0</td>\n",
              "    </tr>\n",
              "    <tr>\n",
              "      <th>8</th>\n",
              "      <td>F29422</td>\n",
              "      <td>5926</td>\n",
              "      <td>C</td>\n",
              "      <td>2.0</td>\n",
              "      <td>2019-09-04 11:14:44</td>\n",
              "      <td>2019-09-04</td>\n",
              "      <td>2019-09-02 00:00:00</td>\n",
              "      <td>2019-09-04</td>\n",
              "      <td>2019-09-04</td>\n",
              "      <td>1606.740</td>\n",
              "      <td>0.0</td>\n",
              "      <td>0.0</td>\n",
              "    </tr>\n",
              "    <tr>\n",
              "      <th>9</th>\n",
              "      <td>F29423</td>\n",
              "      <td>5926</td>\n",
              "      <td>C</td>\n",
              "      <td>2.0</td>\n",
              "      <td>2019-09-04 12:23:05</td>\n",
              "      <td>2019-09-04</td>\n",
              "      <td>2019-09-02 00:00:00</td>\n",
              "      <td>2019-09-04</td>\n",
              "      <td>2019-09-04</td>\n",
              "      <td>1144.430</td>\n",
              "      <td>0.0</td>\n",
              "      <td>0.0</td>\n",
              "    </tr>\n",
              "  </tbody>\n",
              "</table>\n",
              "</div>\n",
              "    <div class=\"colab-df-buttons\">\n",
              "\n",
              "  <div class=\"colab-df-container\">\n",
              "    <button class=\"colab-df-convert\" onclick=\"convertToInteractive('df-8740fedc-0cd7-46ab-a34c-d2426525abcc')\"\n",
              "            title=\"Convert this dataframe to an interactive table.\"\n",
              "            style=\"display:none;\">\n",
              "\n",
              "  <svg xmlns=\"http://www.w3.org/2000/svg\" height=\"24px\" viewBox=\"0 -960 960 960\">\n",
              "    <path d=\"M120-120v-720h720v720H120Zm60-500h600v-160H180v160Zm220 220h160v-160H400v160Zm0 220h160v-160H400v160ZM180-400h160v-160H180v160Zm440 0h160v-160H620v160ZM180-180h160v-160H180v160Zm440 0h160v-160H620v160Z\"/>\n",
              "  </svg>\n",
              "    </button>\n",
              "\n",
              "  <style>\n",
              "    .colab-df-container {\n",
              "      display:flex;\n",
              "      gap: 12px;\n",
              "    }\n",
              "\n",
              "    .colab-df-convert {\n",
              "      background-color: #E8F0FE;\n",
              "      border: none;\n",
              "      border-radius: 50%;\n",
              "      cursor: pointer;\n",
              "      display: none;\n",
              "      fill: #1967D2;\n",
              "      height: 32px;\n",
              "      padding: 0 0 0 0;\n",
              "      width: 32px;\n",
              "    }\n",
              "\n",
              "    .colab-df-convert:hover {\n",
              "      background-color: #E2EBFA;\n",
              "      box-shadow: 0px 1px 2px rgba(60, 64, 67, 0.3), 0px 1px 3px 1px rgba(60, 64, 67, 0.15);\n",
              "      fill: #174EA6;\n",
              "    }\n",
              "\n",
              "    .colab-df-buttons div {\n",
              "      margin-bottom: 4px;\n",
              "    }\n",
              "\n",
              "    [theme=dark] .colab-df-convert {\n",
              "      background-color: #3B4455;\n",
              "      fill: #D2E3FC;\n",
              "    }\n",
              "\n",
              "    [theme=dark] .colab-df-convert:hover {\n",
              "      background-color: #434B5C;\n",
              "      box-shadow: 0px 1px 3px 1px rgba(0, 0, 0, 0.15);\n",
              "      filter: drop-shadow(0px 1px 2px rgba(0, 0, 0, 0.3));\n",
              "      fill: #FFFFFF;\n",
              "    }\n",
              "  </style>\n",
              "\n",
              "    <script>\n",
              "      const buttonEl =\n",
              "        document.querySelector('#df-8740fedc-0cd7-46ab-a34c-d2426525abcc button.colab-df-convert');\n",
              "      buttonEl.style.display =\n",
              "        google.colab.kernel.accessAllowed ? 'block' : 'none';\n",
              "\n",
              "      async function convertToInteractive(key) {\n",
              "        const element = document.querySelector('#df-8740fedc-0cd7-46ab-a34c-d2426525abcc');\n",
              "        const dataTable =\n",
              "          await google.colab.kernel.invokeFunction('convertToInteractive',\n",
              "                                                    [key], {});\n",
              "        if (!dataTable) return;\n",
              "\n",
              "        const docLinkHtml = 'Like what you see? Visit the ' +\n",
              "          '<a target=\"_blank\" href=https://colab.research.google.com/notebooks/data_table.ipynb>data table notebook</a>'\n",
              "          + ' to learn more about interactive tables.';\n",
              "        element.innerHTML = '';\n",
              "        dataTable['output_type'] = 'display_data';\n",
              "        await google.colab.output.renderOutput(dataTable, element);\n",
              "        const docLink = document.createElement('div');\n",
              "        docLink.innerHTML = docLinkHtml;\n",
              "        element.appendChild(docLink);\n",
              "      }\n",
              "    </script>\n",
              "  </div>\n",
              "\n",
              "\n",
              "<div id=\"df-90b06ed1-84c8-40b8-9129-7abc5a3ce342\">\n",
              "  <button class=\"colab-df-quickchart\" onclick=\"quickchart('df-90b06ed1-84c8-40b8-9129-7abc5a3ce342')\"\n",
              "            title=\"Suggest charts.\"\n",
              "            style=\"display:none;\">\n",
              "\n",
              "<svg xmlns=\"http://www.w3.org/2000/svg\" height=\"24px\"viewBox=\"0 0 24 24\"\n",
              "     width=\"24px\">\n",
              "    <g>\n",
              "        <path d=\"M19 3H5c-1.1 0-2 .9-2 2v14c0 1.1.9 2 2 2h14c1.1 0 2-.9 2-2V5c0-1.1-.9-2-2-2zM9 17H7v-7h2v7zm4 0h-2V7h2v10zm4 0h-2v-4h2v4z\"/>\n",
              "    </g>\n",
              "</svg>\n",
              "  </button>\n",
              "\n",
              "<style>\n",
              "  .colab-df-quickchart {\n",
              "    background-color: #E8F0FE;\n",
              "    border: none;\n",
              "    border-radius: 50%;\n",
              "    cursor: pointer;\n",
              "    display: none;\n",
              "    fill: #1967D2;\n",
              "    height: 32px;\n",
              "    padding: 0 0 0 0;\n",
              "    width: 32px;\n",
              "  }\n",
              "\n",
              "  .colab-df-quickchart:hover {\n",
              "    background-color: #E2EBFA;\n",
              "    box-shadow: 0px 1px 2px rgba(60, 64, 67, 0.3), 0px 1px 3px 1px rgba(60, 64, 67, 0.15);\n",
              "    fill: #174EA6;\n",
              "  }\n",
              "\n",
              "  [theme=dark] .colab-df-quickchart {\n",
              "    background-color: #3B4455;\n",
              "    fill: #D2E3FC;\n",
              "  }\n",
              "\n",
              "  [theme=dark] .colab-df-quickchart:hover {\n",
              "    background-color: #434B5C;\n",
              "    box-shadow: 0px 1px 3px 1px rgba(0, 0, 0, 0.15);\n",
              "    filter: drop-shadow(0px 1px 2px rgba(0, 0, 0, 0.3));\n",
              "    fill: #FFFFFF;\n",
              "  }\n",
              "</style>\n",
              "\n",
              "  <script>\n",
              "    async function quickchart(key) {\n",
              "      const charts = await google.colab.kernel.invokeFunction(\n",
              "          'suggestCharts', [key], {});\n",
              "    }\n",
              "    (() => {\n",
              "      let quickchartButtonEl =\n",
              "        document.querySelector('#df-90b06ed1-84c8-40b8-9129-7abc5a3ce342 button');\n",
              "      quickchartButtonEl.style.display =\n",
              "        google.colab.kernel.accessAllowed ? 'block' : 'none';\n",
              "    })();\n",
              "  </script>\n",
              "</div>\n",
              "    </div>\n",
              "  </div>\n"
            ]
          },
          "metadata": {},
          "execution_count": 15
        }
      ]
    },
    {
      "cell_type": "code",
      "source": [],
      "metadata": {
        "id": "a_fNQetE0bZw"
      },
      "execution_count": null,
      "outputs": []
    },
    {
      "cell_type": "code",
      "source": [
        "#Identificar valores nulos por columna\n",
        "valores_nulos=data.isnull().sum()\n",
        "valores_nulos"
      ],
      "metadata": {
        "colab": {
          "base_uri": "https://localhost:8080/"
        },
        "id": "BZ_TCOFb0hZ1",
        "outputId": "c8ef3c1f-7bd0-48ce-aa13-169c1e45d45a"
      },
      "execution_count": 11,
      "outputs": [
        {
          "output_type": "execute_result",
          "data": {
            "text/plain": [
              "CVE_DOC              5\n",
              "CVE_CLPV             0\n",
              "STATUS               9\n",
              "CVE_VEND            48\n",
              "FECHAELAB            2\n",
              "FECHA_DOC            1\n",
              "FECHA_ENT            2\n",
              "FECHA_VEN            0\n",
              "FECHA_CANCELA    10537\n",
              "CAN_TOT              6\n",
              "DES_TOT              1\n",
              "DES_FIN              3\n",
              "dtype: int64"
            ]
          },
          "metadata": {},
          "execution_count": 11
        }
      ]
    },
    {
      "cell_type": "code",
      "source": [
        "data.info()\n"
      ],
      "metadata": {
        "colab": {
          "base_uri": "https://localhost:8080/"
        },
        "id": "gcjcy9bN0vVC",
        "outputId": "e61b835c-efaf-4a58-8660-a4e6f776c752"
      },
      "execution_count": 8,
      "outputs": [
        {
          "output_type": "stream",
          "name": "stdout",
          "text": [
            "<class 'pandas.core.frame.DataFrame'>\n",
            "RangeIndex: 10895 entries, 0 to 10894\n",
            "Data columns (total 12 columns):\n",
            " #   Column         Non-Null Count  Dtype         \n",
            "---  ------         --------------  -----         \n",
            " 0   CVE_DOC        10890 non-null  object        \n",
            " 1   CVE_CLPV       10895 non-null  object        \n",
            " 2   STATUS         10886 non-null  object        \n",
            " 3   CVE_VEND       10847 non-null  float64       \n",
            " 4   FECHAELAB      10893 non-null  datetime64[ns]\n",
            " 5   FECHA_DOC      10894 non-null  datetime64[ns]\n",
            " 6   FECHA_ENT      10893 non-null  object        \n",
            " 7   FECHA_VEN      10895 non-null  datetime64[ns]\n",
            " 8   FECHA_CANCELA  358 non-null    datetime64[ns]\n",
            " 9   CAN_TOT        10889 non-null  float64       \n",
            " 10  DES_TOT        10894 non-null  float64       \n",
            " 11  DES_FIN        10892 non-null  float64       \n",
            "dtypes: datetime64[ns](4), float64(4), object(4)\n",
            "memory usage: 1021.5+ KB\n"
          ]
        }
      ]
    },
    {
      "cell_type": "code",
      "source": [
        "#Realizamos una copia del dataframe\n",
        "data2=data.copy()"
      ],
      "metadata": {
        "id": "mtROtQ3D1Pv5"
      },
      "execution_count": 12,
      "outputs": []
    },
    {
      "cell_type": "code",
      "source": [
        "#Eliminamos FECHA_CANCELA\n",
        "data2= data.drop(['FECHA_CANCELA'], axis= 1)"
      ],
      "metadata": {
        "id": "nsN0o70E1dWr"
      },
      "execution_count": 13,
      "outputs": []
    },
    {
      "cell_type": "code",
      "source": [
        "#Verificamos que ya no esta la columna\n",
        "valores_nulos=data2.isnull().sum()\n",
        "valores_nulos"
      ],
      "metadata": {
        "colab": {
          "base_uri": "https://localhost:8080/"
        },
        "id": "rhZvsOlf2Rmv",
        "outputId": "95f32c97-5a69-4e03-da5a-9a603698529d"
      },
      "execution_count": 14,
      "outputs": [
        {
          "output_type": "execute_result",
          "data": {
            "text/plain": [
              "CVE_DOC       5\n",
              "CVE_CLPV      0\n",
              "STATUS        9\n",
              "CVE_VEND     48\n",
              "FECHAELAB     2\n",
              "FECHA_DOC     1\n",
              "FECHA_ENT     2\n",
              "FECHA_VEN     0\n",
              "CAN_TOT       6\n",
              "DES_TOT       1\n",
              "DES_FIN       3\n",
              "dtype: int64"
            ]
          },
          "metadata": {},
          "execution_count": 14
        }
      ]
    },
    {
      "cell_type": "code",
      "source": [
        "# Sustitucion columna CVE_VEND\n",
        "#Ya que solo hay dos tipos de datos, se rellena con el de enfrennte\n",
        "data2[\"CVE_VEND\"] =data2[\"CVE_VEND\"].fillna(method=\"ffill\")"
      ],
      "metadata": {
        "id": "_LttI4qo2XdB"
      },
      "execution_count": 16,
      "outputs": []
    },
    {
      "cell_type": "code",
      "source": [
        "#Verificamos datos nulos\n",
        "valores_nulos=data2.isnull().sum()\n",
        "valores_nulos"
      ],
      "metadata": {
        "colab": {
          "base_uri": "https://localhost:8080/"
        },
        "id": "YUwnbBlq21N-",
        "outputId": "dae7b66b-b2d7-4435-8e01-f8ed445478f9"
      },
      "execution_count": 17,
      "outputs": [
        {
          "output_type": "execute_result",
          "data": {
            "text/plain": [
              "CVE_DOC      5\n",
              "CVE_CLPV     0\n",
              "STATUS       9\n",
              "CVE_VEND     0\n",
              "FECHAELAB    2\n",
              "FECHA_DOC    1\n",
              "FECHA_ENT    2\n",
              "FECHA_VEN    0\n",
              "CAN_TOT      6\n",
              "DES_TOT      1\n",
              "DES_FIN      3\n",
              "dtype: int64"
            ]
          },
          "metadata": {},
          "execution_count": 17
        }
      ]
    },
    {
      "cell_type": "code",
      "source": [
        "# Sustitucion columna STATUS\n",
        "#Ya que no tenemos en que estatus esta, ponemos NI de No Identificado\n",
        "data2[\"STATUS\"] =data2[\"STATUS\"].fillna(\"NI\")"
      ],
      "metadata": {
        "id": "Yn1lw7W23lvA"
      },
      "execution_count": 18,
      "outputs": []
    },
    {
      "cell_type": "code",
      "source": [
        "#Verificamos datos nulos\n",
        "valores_nulos=data2.isnull().sum()\n",
        "valores_nulos"
      ],
      "metadata": {
        "colab": {
          "base_uri": "https://localhost:8080/"
        },
        "id": "tkb8dA9c4ByG",
        "outputId": "72040132-426f-40f8-909f-cb385e722506"
      },
      "execution_count": 19,
      "outputs": [
        {
          "output_type": "execute_result",
          "data": {
            "text/plain": [
              "CVE_DOC      5\n",
              "CVE_CLPV     0\n",
              "STATUS       0\n",
              "CVE_VEND     0\n",
              "FECHAELAB    2\n",
              "FECHA_DOC    1\n",
              "FECHA_ENT    2\n",
              "FECHA_VEN    0\n",
              "CAN_TOT      6\n",
              "DES_TOT      1\n",
              "DES_FIN      3\n",
              "dtype: int64"
            ]
          },
          "metadata": {},
          "execution_count": 19
        }
      ]
    },
    {
      "cell_type": "code",
      "source": [
        "#Sustitucion CVE_DOC\n",
        "#Ya que son claves unicas, ponemos la palabra Verificar\n",
        "data2[\"CVE_DOC\"] =data2[\"CVE_DOC\"].fillna(\"VERIFICAR\")"
      ],
      "metadata": {
        "id": "1lVvjDj54Ed-"
      },
      "execution_count": 20,
      "outputs": []
    },
    {
      "cell_type": "code",
      "source": [
        "#Verificamos datos nulos\n",
        "valores_nulos=data2.isnull().sum()\n",
        "valores_nulos"
      ],
      "metadata": {
        "colab": {
          "base_uri": "https://localhost:8080/"
        },
        "id": "ZRtEPGgQ5A5H",
        "outputId": "895ef817-33f5-4cf8-911a-155dfb584ec3"
      },
      "execution_count": 21,
      "outputs": [
        {
          "output_type": "execute_result",
          "data": {
            "text/plain": [
              "CVE_DOC      0\n",
              "CVE_CLPV     0\n",
              "STATUS       0\n",
              "CVE_VEND     0\n",
              "FECHAELAB    2\n",
              "FECHA_DOC    1\n",
              "FECHA_ENT    2\n",
              "FECHA_VEN    0\n",
              "CAN_TOT      6\n",
              "DES_TOT      1\n",
              "DES_FIN      3\n",
              "dtype: int64"
            ]
          },
          "metadata": {},
          "execution_count": 21
        }
      ]
    },
    {
      "cell_type": "code",
      "source": [
        "#SUSTITUIR FECHAELAB\n",
        "#Ya que se trata de fechas se rellena con el de enfrennte\n",
        "data2[\"FECHAELAB\"] =data2[\"FECHAELAB\"].fillna(method=\"ffill\")"
      ],
      "metadata": {
        "id": "Hm987_-K5It6"
      },
      "execution_count": 22,
      "outputs": []
    },
    {
      "cell_type": "code",
      "source": [
        "#Verificamos datos nulos\n",
        "valores_nulos=data2.isnull().sum()\n",
        "valores_nulos"
      ],
      "metadata": {
        "colab": {
          "base_uri": "https://localhost:8080/"
        },
        "id": "DXFr1pow5ecM",
        "outputId": "da9a9172-9fef-4624-8152-17afeeef014b"
      },
      "execution_count": 23,
      "outputs": [
        {
          "output_type": "execute_result",
          "data": {
            "text/plain": [
              "CVE_DOC      0\n",
              "CVE_CLPV     0\n",
              "STATUS       0\n",
              "CVE_VEND     0\n",
              "FECHAELAB    0\n",
              "FECHA_DOC    1\n",
              "FECHA_ENT    2\n",
              "FECHA_VEN    0\n",
              "CAN_TOT      6\n",
              "DES_TOT      1\n",
              "DES_FIN      3\n",
              "dtype: int64"
            ]
          },
          "metadata": {},
          "execution_count": 23
        }
      ]
    },
    {
      "cell_type": "code",
      "source": [
        "#SUSTITUIR FECHA_DOC\n",
        "#Ya que se trata de fechas se rellena con el de enfrennte\n",
        "data2[\"FECHA_DOC\"] =data2[\"FECHA_DOC\"].fillna(method=\"ffill\")"
      ],
      "metadata": {
        "id": "LJfmscBG5h77"
      },
      "execution_count": 24,
      "outputs": []
    },
    {
      "cell_type": "code",
      "source": [
        "#Verificamos datos nulos\n",
        "valores_nulos=data2.isnull().sum()\n",
        "valores_nulos"
      ],
      "metadata": {
        "colab": {
          "base_uri": "https://localhost:8080/"
        },
        "id": "MjPvCVA55prg",
        "outputId": "76a511dd-b201-4ae6-9104-8dd0c424b6eb"
      },
      "execution_count": 25,
      "outputs": [
        {
          "output_type": "execute_result",
          "data": {
            "text/plain": [
              "CVE_DOC      0\n",
              "CVE_CLPV     0\n",
              "STATUS       0\n",
              "CVE_VEND     0\n",
              "FECHAELAB    0\n",
              "FECHA_DOC    0\n",
              "FECHA_ENT    2\n",
              "FECHA_VEN    0\n",
              "CAN_TOT      6\n",
              "DES_TOT      1\n",
              "DES_FIN      3\n",
              "dtype: int64"
            ]
          },
          "metadata": {},
          "execution_count": 25
        }
      ]
    },
    {
      "cell_type": "code",
      "source": [
        "#SUSTITUIR FECHA_ENT\n",
        "#Ya que se trata de fechas se rellena con el de enfrennte\n",
        "data2[\"FECHA_ENT\"] =data2[\"FECHA_ENT\"].fillna(method=\"ffill\")"
      ],
      "metadata": {
        "id": "g3kRUvyf5sB-"
      },
      "execution_count": 26,
      "outputs": []
    },
    {
      "cell_type": "code",
      "source": [
        "#Verificamos datos nulos\n",
        "valores_nulos=data2.isnull().sum()\n",
        "valores_nulos"
      ],
      "metadata": {
        "colab": {
          "base_uri": "https://localhost:8080/"
        },
        "id": "tWMEXANv53No",
        "outputId": "4b40197d-51a8-441b-b424-b525e6596b52"
      },
      "execution_count": 27,
      "outputs": [
        {
          "output_type": "execute_result",
          "data": {
            "text/plain": [
              "CVE_DOC      0\n",
              "CVE_CLPV     0\n",
              "STATUS       0\n",
              "CVE_VEND     0\n",
              "FECHAELAB    0\n",
              "FECHA_DOC    0\n",
              "FECHA_ENT    0\n",
              "FECHA_VEN    0\n",
              "CAN_TOT      6\n",
              "DES_TOT      1\n",
              "DES_FIN      3\n",
              "dtype: int64"
            ]
          },
          "metadata": {},
          "execution_count": 27
        }
      ]
    },
    {
      "cell_type": "code",
      "source": [
        "#SUSTITUIR CAN_TOT\n",
        "#Ya que se trata de precios, colocamos media\n",
        "data2[\"CAN_TOT\"]=data2[\"CAN_TOT\"].fillna(round(data[\"CAN_TOT\"].mean(),1))\n"
      ],
      "metadata": {
        "id": "aifxiiW1545T"
      },
      "execution_count": 28,
      "outputs": []
    },
    {
      "cell_type": "code",
      "source": [
        "#Verificamos datos nulos\n",
        "valores_nulos=data2.isnull().sum()\n",
        "valores_nulos"
      ],
      "metadata": {
        "colab": {
          "base_uri": "https://localhost:8080/"
        },
        "id": "r35dr6gb6Yc2",
        "outputId": "9ece44de-b836-4185-a772-d1e734f40a97"
      },
      "execution_count": 29,
      "outputs": [
        {
          "output_type": "execute_result",
          "data": {
            "text/plain": [
              "CVE_DOC      0\n",
              "CVE_CLPV     0\n",
              "STATUS       0\n",
              "CVE_VEND     0\n",
              "FECHAELAB    0\n",
              "FECHA_DOC    0\n",
              "FECHA_ENT    0\n",
              "FECHA_VEN    0\n",
              "CAN_TOT      0\n",
              "DES_TOT      1\n",
              "DES_FIN      3\n",
              "dtype: int64"
            ]
          },
          "metadata": {},
          "execution_count": 29
        }
      ]
    },
    {
      "cell_type": "code",
      "source": [
        "#Sustitucion de DES_TOT y DES_FIN\n",
        "#Ya que se trata de valores enteros, pondremos los que mas se repiten en cada columna\n",
        "data2[\"DES_TOT\"]=data2[\"DES_TOT\"].fillna(round(data[\"DES_TOT\"].mean(),1))\n",
        "data2[\"DES_FIN\"]=data2[\"DES_FIN\"].fillna(round(data[\"DES_FIN\"].mean(),1))"
      ],
      "metadata": {
        "id": "4MlCbwwB6ewx"
      },
      "execution_count": 30,
      "outputs": []
    },
    {
      "cell_type": "code",
      "source": [
        "#Verificamos datos nulos\n",
        "valores_nulos=data2.isnull().sum()\n",
        "valores_nulos"
      ],
      "metadata": {
        "colab": {
          "base_uri": "https://localhost:8080/"
        },
        "id": "tYQGOyJq6_sx",
        "outputId": "ae1fe265-3bff-42a8-af55-f2f770f6bd1b"
      },
      "execution_count": 31,
      "outputs": [
        {
          "output_type": "execute_result",
          "data": {
            "text/plain": [
              "CVE_DOC      0\n",
              "CVE_CLPV     0\n",
              "STATUS       0\n",
              "CVE_VEND     0\n",
              "FECHAELAB    0\n",
              "FECHA_DOC    0\n",
              "FECHA_ENT    0\n",
              "FECHA_VEN    0\n",
              "CAN_TOT      0\n",
              "DES_TOT      0\n",
              "DES_FIN      0\n",
              "dtype: int64"
            ]
          },
          "metadata": {},
          "execution_count": 31
        }
      ]
    },
    {
      "cell_type": "code",
      "source": [
        "#Convertir DataFrame a CSV\n",
        "data2.to_csv(\"datos_facturacion_sin_nulos.csv\")"
      ],
      "metadata": {
        "id": "lElBu0yl7HRr"
      },
      "execution_count": 32,
      "outputs": []
    },
    {
      "cell_type": "code",
      "source": [
        "#descargar archivo filtrado en csv\n",
        "from google.colab import files\n",
        "\n",
        "\n",
        "files.download(\"datos_facturacion_sin_nulos.csv\")"
      ],
      "metadata": {
        "colab": {
          "base_uri": "https://localhost:8080/",
          "height": 17
        },
        "id": "fIHkFURF7Uk2",
        "outputId": "9e45609d-e26f-4646-abdd-94ec1cca4fa7"
      },
      "execution_count": 34,
      "outputs": [
        {
          "output_type": "display_data",
          "data": {
            "text/plain": [
              "<IPython.core.display.Javascript object>"
            ],
            "application/javascript": [
              "\n",
              "    async function download(id, filename, size) {\n",
              "      if (!google.colab.kernel.accessAllowed) {\n",
              "        return;\n",
              "      }\n",
              "      const div = document.createElement('div');\n",
              "      const label = document.createElement('label');\n",
              "      label.textContent = `Downloading \"${filename}\": `;\n",
              "      div.appendChild(label);\n",
              "      const progress = document.createElement('progress');\n",
              "      progress.max = size;\n",
              "      div.appendChild(progress);\n",
              "      document.body.appendChild(div);\n",
              "\n",
              "      const buffers = [];\n",
              "      let downloaded = 0;\n",
              "\n",
              "      const channel = await google.colab.kernel.comms.open(id);\n",
              "      // Send a message to notify the kernel that we're ready.\n",
              "      channel.send({})\n",
              "\n",
              "      for await (const message of channel.messages) {\n",
              "        // Send a message to notify the kernel that we're ready.\n",
              "        channel.send({})\n",
              "        if (message.buffers) {\n",
              "          for (const buffer of message.buffers) {\n",
              "            buffers.push(buffer);\n",
              "            downloaded += buffer.byteLength;\n",
              "            progress.value = downloaded;\n",
              "          }\n",
              "        }\n",
              "      }\n",
              "      const blob = new Blob(buffers, {type: 'application/binary'});\n",
              "      const a = document.createElement('a');\n",
              "      a.href = window.URL.createObjectURL(blob);\n",
              "      a.download = filename;\n",
              "      div.appendChild(a);\n",
              "      a.click();\n",
              "      div.remove();\n",
              "    }\n",
              "  "
            ]
          },
          "metadata": {}
        },
        {
          "output_type": "display_data",
          "data": {
            "text/plain": [
              "<IPython.core.display.Javascript object>"
            ],
            "application/javascript": [
              "download(\"download_cc25ec7c-2b0f-4c75-bd02-1d523361eacc\", \"datos_facturacion_sin_nulos.csv\", 1255206)"
            ]
          },
          "metadata": {}
        }
      ]
    },
    {
      "cell_type": "markdown",
      "source": [
        "LIMPIAR BASE 2"
      ],
      "metadata": {
        "id": "BPbDH7wX7fvA"
      }
    },
    {
      "cell_type": "code",
      "source": [
        "#Cargar archivo excel desde COLAB\n",
        "from google.colab import files\n",
        "files.upload()"
      ],
      "metadata": {
        "id": "lZL7ZZn-7p-y"
      },
      "execution_count": null,
      "outputs": []
    },
    {
      "cell_type": "code",
      "source": [
        "#Carga desde un archivo .csv sin indice\n",
        "dataB2 = pd.read_excel('Detalle precios y productos fabricados 2022.xlsx')\n",
        "dataB2.head(10)"
      ],
      "metadata": {
        "colab": {
          "base_uri": "https://localhost:8080/",
          "height": 748
        },
        "id": "yLtoKIp17613",
        "outputId": "dbf9fdd4-e73c-4f67-d57b-f29e8ee1a552"
      },
      "execution_count": 38,
      "outputs": [
        {
          "output_type": "execute_result",
          "data": {
            "text/plain": [
              "  CVE_DOC  FECHA_DOC            NOMBRE_VENDEDOR  \\\n",
              "0  F37034 2022-01-05  LETICIA RAMIREZ HERNANDEZ   \n",
              "1  F37036 2022-01-05  LETICIA RAMIREZ HERNANDEZ   \n",
              "2  F37041 2022-01-05   DIEGO ARMANDO LEON DURAN   \n",
              "3  F37042 2022-01-05   DIEGO ARMANDO LEON DURAN   \n",
              "4  F37043 2022-01-05  LETICIA RAMIREZ HERNANDEZ   \n",
              "5  F37043 2022-01-05  LETICIA RAMIREZ HERNANDEZ   \n",
              "6  F37044 2022-01-05   DIEGO ARMANDO LEON DURAN   \n",
              "7  F37046 2022-01-05  LETICIA RAMIREZ HERNANDEZ   \n",
              "8  F37048 2022-01-05   DIEGO ARMANDO LEON DURAN   \n",
              "9  F37049 2022-01-05   DIEGO ARMANDO LEON DURAN   \n",
              "\n",
              "                        NOMBRE_CLIENTE  CANT   CVE_ART  \\\n",
              "0                   PÚBLICO EN GENERAL   1.0  TUE00244   \n",
              "1         JUAN ANTONIO RESENDIZ UGALDE   1.0  TUA00028   \n",
              "2            ANA BARBARA CRUZ PALACIOS   7.0    TP0007   \n",
              "3                 OMAR RODRIGUEZ GOMEZ   1.0    TP0001   \n",
              "4                   PÚBLICO EN GENERAL   2.0   BP00242   \n",
              "5                   PÚBLICO EN GENERAL   2.0   BP00243   \n",
              "6  AIRBUS HELICOPTERS MEXICO QUERETARO   1.0   RP00165   \n",
              "7            ANA BARBARA CRUZ PALACIOS   3.0    TP0001   \n",
              "8                   FIDEICOMISO F/1596   NaN  TUE00207   \n",
              "9                   FIDEICOMISO F/1596   NaN  TUE00207   \n",
              "\n",
              "                                      DESCR  PRECIO_UNITARIO  COSTO_UNITARIO  \\\n",
              "0   TUB COBRE 5/16\"ØX165MM CIRCULA1.5KW127V           434.48           52.80   \n",
              "1   TUA U\" 5/16 ØX250MM 1200W 120V TAP1\"NPT          1264.05          327.18   \n",
              "2      TERMOPAR J 3/16 Ø X 1' 1/2 EXT. 7 MT           551.61          177.68   \n",
              "3      TERMOPAR J 3/16 Ø X 1' 1/2 EXT. 1 MT           140.00           38.96   \n",
              "4   BAN P INOX 115MMX235MM 1000W 127V T/TOR           172.41          101.71   \n",
              "5     BAN P INOX 55MMX235MM 450W 127V T/TOR           237.07           49.41   \n",
              "6         REPARACION DE BATIDOR 16.6KW 440V         14000.00         5323.76   \n",
              "7      TERMOPAR J 3/16 Ø X 1' 1/2 EXT. 1 MT            94.50           38.96   \n",
              "8  TUB INCOLOY 1/2\"Øx412mm J 9KW 240V PLACA          1615.00          517.89   \n",
              "9  TUB INCOLOY 1/2\"Øx412mm J 9KW 240V PLACA          1615.00          517.89   \n",
              "\n",
              "   COSTO_UNITARIO_CALCULADO  SUBTOTAL_PARTIDA  COSTO_TOTAL_CALCULADO  \\\n",
              "0                     52.80            434.48                  52.80   \n",
              "1                    327.18           1264.05                 327.18   \n",
              "2                    177.68           3861.29                1243.73   \n",
              "3                     38.96            140.00                  38.96   \n",
              "4                    101.71            344.83                 203.42   \n",
              "5                     49.41            474.14                  98.82   \n",
              "6                   5323.76          14000.00                5323.76   \n",
              "7                     38.96            283.50                 116.88   \n",
              "8                    517.89           1615.00                 517.89   \n",
              "9                    517.89           1615.00                 517.89   \n",
              "\n",
              "   MARGEN_UNITARIO_CALCULADO  MARGEN_TOTAL_CALCULADO  \n",
              "0                     381.68                  381.68  \n",
              "1                     936.87                  936.87  \n",
              "2                     373.94                 2617.56  \n",
              "3                     101.04                  101.04  \n",
              "4                      70.71                  141.41  \n",
              "5                     187.66                  375.32  \n",
              "6                    8676.24                 8676.24  \n",
              "7                      55.54                  166.62  \n",
              "8                    1097.11                 1097.11  \n",
              "9                    1097.11                 1097.11  "
            ],
            "text/html": [
              "\n",
              "  <div id=\"df-57ac78e8-50b8-42a0-84c4-a85b915521eb\" class=\"colab-df-container\">\n",
              "    <div>\n",
              "<style scoped>\n",
              "    .dataframe tbody tr th:only-of-type {\n",
              "        vertical-align: middle;\n",
              "    }\n",
              "\n",
              "    .dataframe tbody tr th {\n",
              "        vertical-align: top;\n",
              "    }\n",
              "\n",
              "    .dataframe thead th {\n",
              "        text-align: right;\n",
              "    }\n",
              "</style>\n",
              "<table border=\"1\" class=\"dataframe\">\n",
              "  <thead>\n",
              "    <tr style=\"text-align: right;\">\n",
              "      <th></th>\n",
              "      <th>CVE_DOC</th>\n",
              "      <th>FECHA_DOC</th>\n",
              "      <th>NOMBRE_VENDEDOR</th>\n",
              "      <th>NOMBRE_CLIENTE</th>\n",
              "      <th>CANT</th>\n",
              "      <th>CVE_ART</th>\n",
              "      <th>DESCR</th>\n",
              "      <th>PRECIO_UNITARIO</th>\n",
              "      <th>COSTO_UNITARIO</th>\n",
              "      <th>COSTO_UNITARIO_CALCULADO</th>\n",
              "      <th>SUBTOTAL_PARTIDA</th>\n",
              "      <th>COSTO_TOTAL_CALCULADO</th>\n",
              "      <th>MARGEN_UNITARIO_CALCULADO</th>\n",
              "      <th>MARGEN_TOTAL_CALCULADO</th>\n",
              "    </tr>\n",
              "  </thead>\n",
              "  <tbody>\n",
              "    <tr>\n",
              "      <th>0</th>\n",
              "      <td>F37034</td>\n",
              "      <td>2022-01-05</td>\n",
              "      <td>LETICIA RAMIREZ HERNANDEZ</td>\n",
              "      <td>PÚBLICO EN GENERAL</td>\n",
              "      <td>1.0</td>\n",
              "      <td>TUE00244</td>\n",
              "      <td>TUB COBRE 5/16\"ØX165MM CIRCULA1.5KW127V</td>\n",
              "      <td>434.48</td>\n",
              "      <td>52.80</td>\n",
              "      <td>52.80</td>\n",
              "      <td>434.48</td>\n",
              "      <td>52.80</td>\n",
              "      <td>381.68</td>\n",
              "      <td>381.68</td>\n",
              "    </tr>\n",
              "    <tr>\n",
              "      <th>1</th>\n",
              "      <td>F37036</td>\n",
              "      <td>2022-01-05</td>\n",
              "      <td>LETICIA RAMIREZ HERNANDEZ</td>\n",
              "      <td>JUAN ANTONIO RESENDIZ UGALDE</td>\n",
              "      <td>1.0</td>\n",
              "      <td>TUA00028</td>\n",
              "      <td>TUA U\" 5/16 ØX250MM 1200W 120V TAP1\"NPT</td>\n",
              "      <td>1264.05</td>\n",
              "      <td>327.18</td>\n",
              "      <td>327.18</td>\n",
              "      <td>1264.05</td>\n",
              "      <td>327.18</td>\n",
              "      <td>936.87</td>\n",
              "      <td>936.87</td>\n",
              "    </tr>\n",
              "    <tr>\n",
              "      <th>2</th>\n",
              "      <td>F37041</td>\n",
              "      <td>2022-01-05</td>\n",
              "      <td>DIEGO ARMANDO LEON DURAN</td>\n",
              "      <td>ANA BARBARA CRUZ PALACIOS</td>\n",
              "      <td>7.0</td>\n",
              "      <td>TP0007</td>\n",
              "      <td>TERMOPAR J 3/16 Ø X 1' 1/2 EXT. 7 MT</td>\n",
              "      <td>551.61</td>\n",
              "      <td>177.68</td>\n",
              "      <td>177.68</td>\n",
              "      <td>3861.29</td>\n",
              "      <td>1243.73</td>\n",
              "      <td>373.94</td>\n",
              "      <td>2617.56</td>\n",
              "    </tr>\n",
              "    <tr>\n",
              "      <th>3</th>\n",
              "      <td>F37042</td>\n",
              "      <td>2022-01-05</td>\n",
              "      <td>DIEGO ARMANDO LEON DURAN</td>\n",
              "      <td>OMAR RODRIGUEZ GOMEZ</td>\n",
              "      <td>1.0</td>\n",
              "      <td>TP0001</td>\n",
              "      <td>TERMOPAR J 3/16 Ø X 1' 1/2 EXT. 1 MT</td>\n",
              "      <td>140.00</td>\n",
              "      <td>38.96</td>\n",
              "      <td>38.96</td>\n",
              "      <td>140.00</td>\n",
              "      <td>38.96</td>\n",
              "      <td>101.04</td>\n",
              "      <td>101.04</td>\n",
              "    </tr>\n",
              "    <tr>\n",
              "      <th>4</th>\n",
              "      <td>F37043</td>\n",
              "      <td>2022-01-05</td>\n",
              "      <td>LETICIA RAMIREZ HERNANDEZ</td>\n",
              "      <td>PÚBLICO EN GENERAL</td>\n",
              "      <td>2.0</td>\n",
              "      <td>BP00242</td>\n",
              "      <td>BAN P INOX 115MMX235MM 1000W 127V T/TOR</td>\n",
              "      <td>172.41</td>\n",
              "      <td>101.71</td>\n",
              "      <td>101.71</td>\n",
              "      <td>344.83</td>\n",
              "      <td>203.42</td>\n",
              "      <td>70.71</td>\n",
              "      <td>141.41</td>\n",
              "    </tr>\n",
              "    <tr>\n",
              "      <th>5</th>\n",
              "      <td>F37043</td>\n",
              "      <td>2022-01-05</td>\n",
              "      <td>LETICIA RAMIREZ HERNANDEZ</td>\n",
              "      <td>PÚBLICO EN GENERAL</td>\n",
              "      <td>2.0</td>\n",
              "      <td>BP00243</td>\n",
              "      <td>BAN P INOX 55MMX235MM 450W 127V T/TOR</td>\n",
              "      <td>237.07</td>\n",
              "      <td>49.41</td>\n",
              "      <td>49.41</td>\n",
              "      <td>474.14</td>\n",
              "      <td>98.82</td>\n",
              "      <td>187.66</td>\n",
              "      <td>375.32</td>\n",
              "    </tr>\n",
              "    <tr>\n",
              "      <th>6</th>\n",
              "      <td>F37044</td>\n",
              "      <td>2022-01-05</td>\n",
              "      <td>DIEGO ARMANDO LEON DURAN</td>\n",
              "      <td>AIRBUS HELICOPTERS MEXICO QUERETARO</td>\n",
              "      <td>1.0</td>\n",
              "      <td>RP00165</td>\n",
              "      <td>REPARACION DE BATIDOR 16.6KW 440V</td>\n",
              "      <td>14000.00</td>\n",
              "      <td>5323.76</td>\n",
              "      <td>5323.76</td>\n",
              "      <td>14000.00</td>\n",
              "      <td>5323.76</td>\n",
              "      <td>8676.24</td>\n",
              "      <td>8676.24</td>\n",
              "    </tr>\n",
              "    <tr>\n",
              "      <th>7</th>\n",
              "      <td>F37046</td>\n",
              "      <td>2022-01-05</td>\n",
              "      <td>LETICIA RAMIREZ HERNANDEZ</td>\n",
              "      <td>ANA BARBARA CRUZ PALACIOS</td>\n",
              "      <td>3.0</td>\n",
              "      <td>TP0001</td>\n",
              "      <td>TERMOPAR J 3/16 Ø X 1' 1/2 EXT. 1 MT</td>\n",
              "      <td>94.50</td>\n",
              "      <td>38.96</td>\n",
              "      <td>38.96</td>\n",
              "      <td>283.50</td>\n",
              "      <td>116.88</td>\n",
              "      <td>55.54</td>\n",
              "      <td>166.62</td>\n",
              "    </tr>\n",
              "    <tr>\n",
              "      <th>8</th>\n",
              "      <td>F37048</td>\n",
              "      <td>2022-01-05</td>\n",
              "      <td>DIEGO ARMANDO LEON DURAN</td>\n",
              "      <td>FIDEICOMISO F/1596</td>\n",
              "      <td>NaN</td>\n",
              "      <td>TUE00207</td>\n",
              "      <td>TUB INCOLOY 1/2\"Øx412mm J 9KW 240V PLACA</td>\n",
              "      <td>1615.00</td>\n",
              "      <td>517.89</td>\n",
              "      <td>517.89</td>\n",
              "      <td>1615.00</td>\n",
              "      <td>517.89</td>\n",
              "      <td>1097.11</td>\n",
              "      <td>1097.11</td>\n",
              "    </tr>\n",
              "    <tr>\n",
              "      <th>9</th>\n",
              "      <td>F37049</td>\n",
              "      <td>2022-01-05</td>\n",
              "      <td>DIEGO ARMANDO LEON DURAN</td>\n",
              "      <td>FIDEICOMISO F/1596</td>\n",
              "      <td>NaN</td>\n",
              "      <td>TUE00207</td>\n",
              "      <td>TUB INCOLOY 1/2\"Øx412mm J 9KW 240V PLACA</td>\n",
              "      <td>1615.00</td>\n",
              "      <td>517.89</td>\n",
              "      <td>517.89</td>\n",
              "      <td>1615.00</td>\n",
              "      <td>517.89</td>\n",
              "      <td>1097.11</td>\n",
              "      <td>1097.11</td>\n",
              "    </tr>\n",
              "  </tbody>\n",
              "</table>\n",
              "</div>\n",
              "    <div class=\"colab-df-buttons\">\n",
              "\n",
              "  <div class=\"colab-df-container\">\n",
              "    <button class=\"colab-df-convert\" onclick=\"convertToInteractive('df-57ac78e8-50b8-42a0-84c4-a85b915521eb')\"\n",
              "            title=\"Convert this dataframe to an interactive table.\"\n",
              "            style=\"display:none;\">\n",
              "\n",
              "  <svg xmlns=\"http://www.w3.org/2000/svg\" height=\"24px\" viewBox=\"0 -960 960 960\">\n",
              "    <path d=\"M120-120v-720h720v720H120Zm60-500h600v-160H180v160Zm220 220h160v-160H400v160Zm0 220h160v-160H400v160ZM180-400h160v-160H180v160Zm440 0h160v-160H620v160ZM180-180h160v-160H180v160Zm440 0h160v-160H620v160Z\"/>\n",
              "  </svg>\n",
              "    </button>\n",
              "\n",
              "  <style>\n",
              "    .colab-df-container {\n",
              "      display:flex;\n",
              "      gap: 12px;\n",
              "    }\n",
              "\n",
              "    .colab-df-convert {\n",
              "      background-color: #E8F0FE;\n",
              "      border: none;\n",
              "      border-radius: 50%;\n",
              "      cursor: pointer;\n",
              "      display: none;\n",
              "      fill: #1967D2;\n",
              "      height: 32px;\n",
              "      padding: 0 0 0 0;\n",
              "      width: 32px;\n",
              "    }\n",
              "\n",
              "    .colab-df-convert:hover {\n",
              "      background-color: #E2EBFA;\n",
              "      box-shadow: 0px 1px 2px rgba(60, 64, 67, 0.3), 0px 1px 3px 1px rgba(60, 64, 67, 0.15);\n",
              "      fill: #174EA6;\n",
              "    }\n",
              "\n",
              "    .colab-df-buttons div {\n",
              "      margin-bottom: 4px;\n",
              "    }\n",
              "\n",
              "    [theme=dark] .colab-df-convert {\n",
              "      background-color: #3B4455;\n",
              "      fill: #D2E3FC;\n",
              "    }\n",
              "\n",
              "    [theme=dark] .colab-df-convert:hover {\n",
              "      background-color: #434B5C;\n",
              "      box-shadow: 0px 1px 3px 1px rgba(0, 0, 0, 0.15);\n",
              "      filter: drop-shadow(0px 1px 2px rgba(0, 0, 0, 0.3));\n",
              "      fill: #FFFFFF;\n",
              "    }\n",
              "  </style>\n",
              "\n",
              "    <script>\n",
              "      const buttonEl =\n",
              "        document.querySelector('#df-57ac78e8-50b8-42a0-84c4-a85b915521eb button.colab-df-convert');\n",
              "      buttonEl.style.display =\n",
              "        google.colab.kernel.accessAllowed ? 'block' : 'none';\n",
              "\n",
              "      async function convertToInteractive(key) {\n",
              "        const element = document.querySelector('#df-57ac78e8-50b8-42a0-84c4-a85b915521eb');\n",
              "        const dataTable =\n",
              "          await google.colab.kernel.invokeFunction('convertToInteractive',\n",
              "                                                    [key], {});\n",
              "        if (!dataTable) return;\n",
              "\n",
              "        const docLinkHtml = 'Like what you see? Visit the ' +\n",
              "          '<a target=\"_blank\" href=https://colab.research.google.com/notebooks/data_table.ipynb>data table notebook</a>'\n",
              "          + ' to learn more about interactive tables.';\n",
              "        element.innerHTML = '';\n",
              "        dataTable['output_type'] = 'display_data';\n",
              "        await google.colab.output.renderOutput(dataTable, element);\n",
              "        const docLink = document.createElement('div');\n",
              "        docLink.innerHTML = docLinkHtml;\n",
              "        element.appendChild(docLink);\n",
              "      }\n",
              "    </script>\n",
              "  </div>\n",
              "\n",
              "\n",
              "<div id=\"df-3d8f607e-7841-4517-9692-0f685e1cb292\">\n",
              "  <button class=\"colab-df-quickchart\" onclick=\"quickchart('df-3d8f607e-7841-4517-9692-0f685e1cb292')\"\n",
              "            title=\"Suggest charts.\"\n",
              "            style=\"display:none;\">\n",
              "\n",
              "<svg xmlns=\"http://www.w3.org/2000/svg\" height=\"24px\"viewBox=\"0 0 24 24\"\n",
              "     width=\"24px\">\n",
              "    <g>\n",
              "        <path d=\"M19 3H5c-1.1 0-2 .9-2 2v14c0 1.1.9 2 2 2h14c1.1 0 2-.9 2-2V5c0-1.1-.9-2-2-2zM9 17H7v-7h2v7zm4 0h-2V7h2v10zm4 0h-2v-4h2v4z\"/>\n",
              "    </g>\n",
              "</svg>\n",
              "  </button>\n",
              "\n",
              "<style>\n",
              "  .colab-df-quickchart {\n",
              "    background-color: #E8F0FE;\n",
              "    border: none;\n",
              "    border-radius: 50%;\n",
              "    cursor: pointer;\n",
              "    display: none;\n",
              "    fill: #1967D2;\n",
              "    height: 32px;\n",
              "    padding: 0 0 0 0;\n",
              "    width: 32px;\n",
              "  }\n",
              "\n",
              "  .colab-df-quickchart:hover {\n",
              "    background-color: #E2EBFA;\n",
              "    box-shadow: 0px 1px 2px rgba(60, 64, 67, 0.3), 0px 1px 3px 1px rgba(60, 64, 67, 0.15);\n",
              "    fill: #174EA6;\n",
              "  }\n",
              "\n",
              "  [theme=dark] .colab-df-quickchart {\n",
              "    background-color: #3B4455;\n",
              "    fill: #D2E3FC;\n",
              "  }\n",
              "\n",
              "  [theme=dark] .colab-df-quickchart:hover {\n",
              "    background-color: #434B5C;\n",
              "    box-shadow: 0px 1px 3px 1px rgba(0, 0, 0, 0.15);\n",
              "    filter: drop-shadow(0px 1px 2px rgba(0, 0, 0, 0.3));\n",
              "    fill: #FFFFFF;\n",
              "  }\n",
              "</style>\n",
              "\n",
              "  <script>\n",
              "    async function quickchart(key) {\n",
              "      const charts = await google.colab.kernel.invokeFunction(\n",
              "          'suggestCharts', [key], {});\n",
              "    }\n",
              "    (() => {\n",
              "      let quickchartButtonEl =\n",
              "        document.querySelector('#df-3d8f607e-7841-4517-9692-0f685e1cb292 button');\n",
              "      quickchartButtonEl.style.display =\n",
              "        google.colab.kernel.accessAllowed ? 'block' : 'none';\n",
              "    })();\n",
              "  </script>\n",
              "</div>\n",
              "    </div>\n",
              "  </div>\n"
            ]
          },
          "metadata": {},
          "execution_count": 38
        }
      ]
    },
    {
      "cell_type": "code",
      "source": [
        "#Identificar valores nulos por columna\n",
        "valores_nulos=dataB2.isnull().sum()\n",
        "valores_nulos"
      ],
      "metadata": {
        "colab": {
          "base_uri": "https://localhost:8080/"
        },
        "id": "_hrGZ13d8RbP",
        "outputId": "e2eeee8b-1033-429e-d0f5-8a9f51e169be"
      },
      "execution_count": 39,
      "outputs": [
        {
          "output_type": "execute_result",
          "data": {
            "text/plain": [
              "CVE_DOC                      3\n",
              "FECHA_DOC                    3\n",
              "NOMBRE_VENDEDOR              2\n",
              "NOMBRE_CLIENTE               2\n",
              "CANT                         7\n",
              "CVE_ART                      2\n",
              "DESCR                        2\n",
              "PRECIO_UNITARIO              2\n",
              "COSTO_UNITARIO               4\n",
              "COSTO_UNITARIO_CALCULADO     2\n",
              "SUBTOTAL_PARTIDA             4\n",
              "COSTO_TOTAL_CALCULADO        0\n",
              "MARGEN_UNITARIO_CALCULADO    0\n",
              "MARGEN_TOTAL_CALCULADO       0\n",
              "dtype: int64"
            ]
          },
          "metadata": {},
          "execution_count": 39
        }
      ]
    },
    {
      "cell_type": "code",
      "source": [
        "#Realizamos una copia del dataframe\n",
        "data2B2=dataB2.copy()"
      ],
      "metadata": {
        "id": "YcBcUUu48rEN"
      },
      "execution_count": 40,
      "outputs": []
    },
    {
      "cell_type": "code",
      "source": [
        "#Sustituir columna CVE_DOC\n",
        "#Sustituimos con la palabra Verificar ya que se trata de claves unicqas\n",
        "\n",
        "data2B2[\"CVE_DOC\"] =data2B2[\"CVE_DOC\"].fillna(\"VERIFICAR\")"
      ],
      "metadata": {
        "id": "7FMeyonX8Ksi"
      },
      "execution_count": 41,
      "outputs": []
    },
    {
      "cell_type": "code",
      "source": [
        "#Identificar valores nulos por columna\n",
        "valores_nulos=data2B2.isnull().sum()\n",
        "valores_nulos"
      ],
      "metadata": {
        "colab": {
          "base_uri": "https://localhost:8080/"
        },
        "id": "YZ1uLabq83ss",
        "outputId": "9a696463-f5d0-427d-e669-e1825eb5e1fc"
      },
      "execution_count": 42,
      "outputs": [
        {
          "output_type": "execute_result",
          "data": {
            "text/plain": [
              "CVE_DOC                      0\n",
              "FECHA_DOC                    3\n",
              "NOMBRE_VENDEDOR              2\n",
              "NOMBRE_CLIENTE               2\n",
              "CANT                         7\n",
              "CVE_ART                      2\n",
              "DESCR                        2\n",
              "PRECIO_UNITARIO              2\n",
              "COSTO_UNITARIO               4\n",
              "COSTO_UNITARIO_CALCULADO     2\n",
              "SUBTOTAL_PARTIDA             4\n",
              "COSTO_TOTAL_CALCULADO        0\n",
              "MARGEN_UNITARIO_CALCULADO    0\n",
              "MARGEN_TOTAL_CALCULADO       0\n",
              "dtype: int64"
            ]
          },
          "metadata": {},
          "execution_count": 42
        }
      ]
    },
    {
      "cell_type": "code",
      "source": [
        "#Sustituir columna FECHA_DOC\n",
        "#Ya que se tratan de fechas, sustituimos con la del dia anterior\n",
        "data2B2[\"FECHA_DOC\"] =data2B2[\"FECHA_DOC\"].fillna(method=\"bfill\")"
      ],
      "metadata": {
        "id": "sUNC9Gvv88tQ"
      },
      "execution_count": 44,
      "outputs": []
    },
    {
      "cell_type": "code",
      "source": [
        "#Identificar valores nulos por columna\n",
        "valores_nulos=data2B2.isnull().sum()\n",
        "valores_nulos"
      ],
      "metadata": {
        "colab": {
          "base_uri": "https://localhost:8080/"
        },
        "id": "mFNiQ72x9VKb",
        "outputId": "3bb9bdc5-ba45-450b-effe-96f77128f640"
      },
      "execution_count": 45,
      "outputs": [
        {
          "output_type": "execute_result",
          "data": {
            "text/plain": [
              "CVE_DOC                      0\n",
              "FECHA_DOC                    0\n",
              "NOMBRE_VENDEDOR              2\n",
              "NOMBRE_CLIENTE               2\n",
              "CANT                         7\n",
              "CVE_ART                      2\n",
              "DESCR                        2\n",
              "PRECIO_UNITARIO              2\n",
              "COSTO_UNITARIO               4\n",
              "COSTO_UNITARIO_CALCULADO     2\n",
              "SUBTOTAL_PARTIDA             4\n",
              "COSTO_TOTAL_CALCULADO        0\n",
              "MARGEN_UNITARIO_CALCULADO    0\n",
              "MARGEN_TOTAL_CALCULADO       0\n",
              "dtype: int64"
            ]
          },
          "metadata": {},
          "execution_count": 45
        }
      ]
    },
    {
      "cell_type": "code",
      "source": [
        "#Sustituir columnas NOMBRE_VENDEDOR\n",
        "#Sustituimos con moda para que sean asignados al vendedor que vende mas\n",
        "frecuenciaVendedor= dataB2.groupby(['NOMBRE_VENDEDOR'])['NOMBRE_VENDEDOR'].count()\n",
        "frecuenciaVendedor\n",
        "\n",
        "data2B2[\"NOMBRE_VENDEDOR\"] =data2B2[\"NOMBRE_VENDEDOR\"].fillna(\"LETICIA RAMIREZ HERNANDEZ\")\n"
      ],
      "metadata": {
        "id": "0mK9sL_e9e5I"
      },
      "execution_count": 48,
      "outputs": []
    },
    {
      "cell_type": "code",
      "source": [
        "#Identificar valores nulos por columna\n",
        "valores_nulos=data2B2.isnull().sum()\n",
        "valores_nulos"
      ],
      "metadata": {
        "colab": {
          "base_uri": "https://localhost:8080/"
        },
        "id": "KfFIUwiK_eiJ",
        "outputId": "44c5915a-aeb7-47c6-d0dc-88152b6ebe15"
      },
      "execution_count": 49,
      "outputs": [
        {
          "output_type": "execute_result",
          "data": {
            "text/plain": [
              "CVE_DOC                      0\n",
              "FECHA_DOC                    0\n",
              "NOMBRE_VENDEDOR              0\n",
              "NOMBRE_CLIENTE               2\n",
              "CANT                         7\n",
              "CVE_ART                      2\n",
              "DESCR                        2\n",
              "PRECIO_UNITARIO              2\n",
              "COSTO_UNITARIO               4\n",
              "COSTO_UNITARIO_CALCULADO     2\n",
              "SUBTOTAL_PARTIDA             4\n",
              "COSTO_TOTAL_CALCULADO        0\n",
              "MARGEN_UNITARIO_CALCULADO    0\n",
              "MARGEN_TOTAL_CALCULADO       0\n",
              "dtype: int64"
            ]
          },
          "metadata": {},
          "execution_count": 49
        }
      ]
    },
    {
      "cell_type": "code",
      "source": [
        "#Sustituir columnas NOMBRE_CLIENTE\n",
        "#Sustituimos con moda para que sean asignados al vendedor que vende mas\n",
        "frecuenciaCliente= dataB2.groupby(['NOMBRE_CLIENTE'])['NOMBRE_CLIENTE'].count()\n",
        "frecuenciaCliente\n",
        "\n",
        "data2B2[\"NOMBRE_CLIENTE\"] =data2B2[\"NOMBRE_CLIENTE\"].fillna(\"ADRIANA BERENICE GUERRERO OVIEDO\")"
      ],
      "metadata": {
        "id": "Izg_notW_i7n"
      },
      "execution_count": 51,
      "outputs": []
    },
    {
      "cell_type": "code",
      "source": [
        "#Identificar valores nulos por columna\n",
        "valores_nulos=data2B2.isnull().sum()\n",
        "valores_nulos"
      ],
      "metadata": {
        "colab": {
          "base_uri": "https://localhost:8080/"
        },
        "id": "br-IF5Qm_5wY",
        "outputId": "56a3eaa1-f6fb-4375-dd8e-27a51b7fce5b"
      },
      "execution_count": 52,
      "outputs": [
        {
          "output_type": "execute_result",
          "data": {
            "text/plain": [
              "CVE_DOC                      0\n",
              "FECHA_DOC                    0\n",
              "NOMBRE_VENDEDOR              0\n",
              "NOMBRE_CLIENTE               0\n",
              "CANT                         7\n",
              "CVE_ART                      2\n",
              "DESCR                        2\n",
              "PRECIO_UNITARIO              2\n",
              "COSTO_UNITARIO               4\n",
              "COSTO_UNITARIO_CALCULADO     2\n",
              "SUBTOTAL_PARTIDA             4\n",
              "COSTO_TOTAL_CALCULADO        0\n",
              "MARGEN_UNITARIO_CALCULADO    0\n",
              "MARGEN_TOTAL_CALCULADO       0\n",
              "dtype: int64"
            ]
          },
          "metadata": {},
          "execution_count": 52
        }
      ]
    },
    {
      "cell_type": "code",
      "source": [
        "#Sustituir columnas CANT\n",
        "#Ponemos el valor de adelante ya que son numeros enteros\n",
        "data2B2[\"CANT\"] =data2B2[\"CANT\"].fillna(method=\"ffill\")"
      ],
      "metadata": {
        "id": "qPRJOCSvAAW6"
      },
      "execution_count": 53,
      "outputs": []
    },
    {
      "cell_type": "code",
      "source": [
        "#Identificar valores nulos por columna\n",
        "valores_nulos=data2B2.isnull().sum()\n",
        "valores_nulos"
      ],
      "metadata": {
        "colab": {
          "base_uri": "https://localhost:8080/"
        },
        "id": "ko2rljuzAaul",
        "outputId": "5e6d8538-38e9-4c3a-849c-e82059c67671"
      },
      "execution_count": 54,
      "outputs": [
        {
          "output_type": "execute_result",
          "data": {
            "text/plain": [
              "CVE_DOC                      0\n",
              "FECHA_DOC                    0\n",
              "NOMBRE_VENDEDOR              0\n",
              "NOMBRE_CLIENTE               0\n",
              "CANT                         0\n",
              "CVE_ART                      2\n",
              "DESCR                        2\n",
              "PRECIO_UNITARIO              2\n",
              "COSTO_UNITARIO               4\n",
              "COSTO_UNITARIO_CALCULADO     2\n",
              "SUBTOTAL_PARTIDA             4\n",
              "COSTO_TOTAL_CALCULADO        0\n",
              "MARGEN_UNITARIO_CALCULADO    0\n",
              "MARGEN_TOTAL_CALCULADO       0\n",
              "dtype: int64"
            ]
          },
          "metadata": {},
          "execution_count": 54
        }
      ]
    },
    {
      "cell_type": "code",
      "source": [
        "#Sustituir columnas PRECIO_UNITARIO, COSTO_UNITARIO, COSTO_UNITARIO_CALCULADO y SUBTOTAL_PARTIDA\n",
        "#Ya que se tratan de precios sustituimos los nulos con la media\n",
        "data2B2[\"PRECIO_UNITARIO\"]=data2B2[\"PRECIO_UNITARIO\"].fillna(round(dataB2[\"PRECIO_UNITARIO\"].mean(),1))\n",
        "data2B2[\"COSTO_UNITARIO\"]=data2B2[\"COSTO_UNITARIO\"].fillna(round(dataB2[\"COSTO_UNITARIO\"].mean(),1))\n",
        "data2B2[\"SUBTOTAL_PARTIDA\"]=data2B2[\"SUBTOTAL_PARTIDA\"].fillna(round(dataB2[\"SUBTOTAL_PARTIDA\"].mean(),1))\n",
        "data2B2[\"COSTO_UNITARIO_CALCULADO\"]=data2B2[\"COSTO_UNITARIO_CALCULADO\"].fillna(round(dataB2[\"COSTO_UNITARIO_CALCULADO\"].mean(),1))"
      ],
      "metadata": {
        "id": "9qqHlJULAhqx"
      },
      "execution_count": 57,
      "outputs": []
    },
    {
      "cell_type": "code",
      "source": [
        "#Identificar valores nulos por columna\n",
        "valores_nulos=data2B2.isnull().sum()\n",
        "valores_nulos"
      ],
      "metadata": {
        "colab": {
          "base_uri": "https://localhost:8080/"
        },
        "id": "QWmnZoPrBSYT",
        "outputId": "07796a6c-9a7d-453c-880e-a6e00f257ca5"
      },
      "execution_count": 58,
      "outputs": [
        {
          "output_type": "execute_result",
          "data": {
            "text/plain": [
              "CVE_DOC                      0\n",
              "FECHA_DOC                    0\n",
              "NOMBRE_VENDEDOR              0\n",
              "NOMBRE_CLIENTE               0\n",
              "CANT                         0\n",
              "CVE_ART                      2\n",
              "DESCR                        2\n",
              "PRECIO_UNITARIO              0\n",
              "COSTO_UNITARIO               0\n",
              "COSTO_UNITARIO_CALCULADO     0\n",
              "SUBTOTAL_PARTIDA             0\n",
              "COSTO_TOTAL_CALCULADO        0\n",
              "MARGEN_UNITARIO_CALCULADO    0\n",
              "MARGEN_TOTAL_CALCULADO       0\n",
              "dtype: int64"
            ]
          },
          "metadata": {},
          "execution_count": 58
        }
      ]
    },
    {
      "cell_type": "code",
      "source": [
        "#Sustituir CVE_ART\n",
        "#Sustituimos con No identificado ya que es una clave unica\n",
        "data2B2[\"CVE_ART\"] =data2B2[\"CVE_ART\"].fillna(\"No Identificado\")"
      ],
      "metadata": {
        "id": "YOYIgQ6ABxBd"
      },
      "execution_count": 59,
      "outputs": []
    },
    {
      "cell_type": "code",
      "source": [
        "#Identificar valores nulos por columna\n",
        "valores_nulos=data2B2.isnull().sum()\n",
        "valores_nulos"
      ],
      "metadata": {
        "colab": {
          "base_uri": "https://localhost:8080/"
        },
        "id": "DOjA4FDgCIU0",
        "outputId": "14d51be4-230d-4c6a-8548-7894f13ae7b1"
      },
      "execution_count": 60,
      "outputs": [
        {
          "output_type": "execute_result",
          "data": {
            "text/plain": [
              "CVE_DOC                      0\n",
              "FECHA_DOC                    0\n",
              "NOMBRE_VENDEDOR              0\n",
              "NOMBRE_CLIENTE               0\n",
              "CANT                         0\n",
              "CVE_ART                      0\n",
              "DESCR                        2\n",
              "PRECIO_UNITARIO              0\n",
              "COSTO_UNITARIO               0\n",
              "COSTO_UNITARIO_CALCULADO     0\n",
              "SUBTOTAL_PARTIDA             0\n",
              "COSTO_TOTAL_CALCULADO        0\n",
              "MARGEN_UNITARIO_CALCULADO    0\n",
              "MARGEN_TOTAL_CALCULADO       0\n",
              "dtype: int64"
            ]
          },
          "metadata": {},
          "execution_count": 60
        }
      ]
    },
    {
      "cell_type": "code",
      "source": [
        "#Sustituir DESCR\n",
        "#Sustituimos con compra perdida ya que no se sabe que compraron\n",
        "data2B2[\"DESCR\"] =data2B2[\"DESCR\"].fillna(\"Compra perdida\")"
      ],
      "metadata": {
        "id": "QpHZg9QSCKjO"
      },
      "execution_count": 61,
      "outputs": []
    },
    {
      "cell_type": "code",
      "source": [
        "#Identificar valores nulos por columna\n",
        "valores_nulos=data2B2.isnull().sum()\n",
        "valores_nulos"
      ],
      "metadata": {
        "colab": {
          "base_uri": "https://localhost:8080/"
        },
        "id": "sTbRexBPCZtQ",
        "outputId": "ce19fca8-9cb3-4333-c3eb-8b4da4ab3de5"
      },
      "execution_count": 62,
      "outputs": [
        {
          "output_type": "execute_result",
          "data": {
            "text/plain": [
              "CVE_DOC                      0\n",
              "FECHA_DOC                    0\n",
              "NOMBRE_VENDEDOR              0\n",
              "NOMBRE_CLIENTE               0\n",
              "CANT                         0\n",
              "CVE_ART                      0\n",
              "DESCR                        0\n",
              "PRECIO_UNITARIO              0\n",
              "COSTO_UNITARIO               0\n",
              "COSTO_UNITARIO_CALCULADO     0\n",
              "SUBTOTAL_PARTIDA             0\n",
              "COSTO_TOTAL_CALCULADO        0\n",
              "MARGEN_UNITARIO_CALCULADO    0\n",
              "MARGEN_TOTAL_CALCULADO       0\n",
              "dtype: int64"
            ]
          },
          "metadata": {},
          "execution_count": 62
        }
      ]
    },
    {
      "cell_type": "code",
      "source": [
        "#Convertir DataFrame a CSV\n",
        "data2B2.to_csv(\"detalles_PPF_sin_nulos.csv\")"
      ],
      "metadata": {
        "id": "Ra3k2t6-CbzD"
      },
      "execution_count": 63,
      "outputs": []
    },
    {
      "cell_type": "code",
      "source": [
        "#descargar archivo filtrado en csv\n",
        "from google.colab import files\n",
        "\n",
        "\n",
        "files.download(\"detalles_PPF_sin_nulos.csv\")"
      ],
      "metadata": {
        "colab": {
          "base_uri": "https://localhost:8080/",
          "height": 17
        },
        "id": "BiGA5w3zCs79",
        "outputId": "89350363-2df5-4052-c8a6-ac4b5162e100"
      },
      "execution_count": 64,
      "outputs": [
        {
          "output_type": "display_data",
          "data": {
            "text/plain": [
              "<IPython.core.display.Javascript object>"
            ],
            "application/javascript": [
              "\n",
              "    async function download(id, filename, size) {\n",
              "      if (!google.colab.kernel.accessAllowed) {\n",
              "        return;\n",
              "      }\n",
              "      const div = document.createElement('div');\n",
              "      const label = document.createElement('label');\n",
              "      label.textContent = `Downloading \"${filename}\": `;\n",
              "      div.appendChild(label);\n",
              "      const progress = document.createElement('progress');\n",
              "      progress.max = size;\n",
              "      div.appendChild(progress);\n",
              "      document.body.appendChild(div);\n",
              "\n",
              "      const buffers = [];\n",
              "      let downloaded = 0;\n",
              "\n",
              "      const channel = await google.colab.kernel.comms.open(id);\n",
              "      // Send a message to notify the kernel that we're ready.\n",
              "      channel.send({})\n",
              "\n",
              "      for await (const message of channel.messages) {\n",
              "        // Send a message to notify the kernel that we're ready.\n",
              "        channel.send({})\n",
              "        if (message.buffers) {\n",
              "          for (const buffer of message.buffers) {\n",
              "            buffers.push(buffer);\n",
              "            downloaded += buffer.byteLength;\n",
              "            progress.value = downloaded;\n",
              "          }\n",
              "        }\n",
              "      }\n",
              "      const blob = new Blob(buffers, {type: 'application/binary'});\n",
              "      const a = document.createElement('a');\n",
              "      a.href = window.URL.createObjectURL(blob);\n",
              "      a.download = filename;\n",
              "      div.appendChild(a);\n",
              "      a.click();\n",
              "      div.remove();\n",
              "    }\n",
              "  "
            ]
          },
          "metadata": {}
        },
        {
          "output_type": "display_data",
          "data": {
            "text/plain": [
              "<IPython.core.display.Javascript object>"
            ],
            "application/javascript": [
              "download(\"download_8b750c8c-421b-4e1d-bfc2-58a9dc7d8d16\", \"detalles_PPF_sin_nulos.csv\", 246268)"
            ]
          },
          "metadata": {}
        }
      ]
    }
  ]
}